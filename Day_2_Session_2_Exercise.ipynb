{
  "nbformat": 4,
  "nbformat_minor": 0,
  "metadata": {
    "colab": {
      "name": "Day 2 Session 2 Exercise",
      "provenance": [],
      "collapsed_sections": [],
      "authorship_tag": "ABX9TyOopQSFCPXwBxnuXVpOILEK",
      "include_colab_link": true
    },
    "kernelspec": {
      "name": "python3",
      "display_name": "Python 3"
    }
  },
  "cells": [
    {
      "cell_type": "markdown",
      "metadata": {
        "id": "view-in-github",
        "colab_type": "text"
      },
      "source": [
        "<a href=\"https://colab.research.google.com/github/ShreeKiranRBhatt/Python-Workshop/blob/master/Day_2_Session_2_Exercise.ipynb\" target=\"_parent\"><img src=\"https://colab.research.google.com/assets/colab-badge.svg\" alt=\"Open In Colab\"/></a>"
      ]
    },
    {
      "cell_type": "markdown",
      "metadata": {
        "id": "nU3W0o6mnK8A",
        "colab_type": "text"
      },
      "source": [
        "1.Python Program to count the total number of charaters (except blank space) in a text file."
      ]
    },
    {
      "cell_type": "code",
      "metadata": {
        "id": "2jvPLKdUI50H",
        "colab_type": "code",
        "colab": {
          "base_uri": "https://localhost:8080/",
          "height": 50
        },
        "outputId": "aea10cbe-1e56-45df-8102-af13ac7ab137"
      },
      "source": [
        "fname = input(\"Enter the name of the file:\")\n",
        "infile = open(fname, 'r')\n",
        "lines = 0\n",
        "words = 0\n",
        "characters = 0\n",
        "for line in infile:\n",
        "    wordslist = line.split()\n",
        "    lines = lines + 1\n",
        "    words = words + len(wordslist)\n",
        "    characters = characters + len(line)\n",
        "print(characters)\n"
      ],
      "execution_count": 1,
      "outputs": [
        {
          "output_type": "stream",
          "text": [
            "Enter the name of the file:/content/sample_data/file.txt\n",
            "25\n"
          ],
          "name": "stdout"
        }
      ]
    },
    {
      "cell_type": "markdown",
      "metadata": {
        "id": "AVP-_0_Kow3L",
        "colab_type": "text"
      },
      "source": [
        "2.Python Program to print all the numbers present in a text file with its total number of occurrence."
      ]
    },
    {
      "cell_type": "code",
      "metadata": {
        "id": "2fnKDXI2oyCt",
        "colab_type": "code",
        "colab": {
          "base_uri": "https://localhost:8080/",
          "height": 82
        },
        "outputId": "d026e3ed-785a-481a-ff9d-073885d83438"
      },
      "source": [
        "fname = input(\"Enter file name: \")\n",
        "l=input(\"Enter letter to be searched:\")\n",
        "k = 0\n",
        "\n",
        "with open(fname, 'r') as f:\n",
        "    for line in f:\n",
        "        words = line.split()\n",
        "        for i in words:\n",
        "            for letter in i:\n",
        "                if(letter==l):\n",
        "                    k=k+1\n",
        "print(\"Occurrences of the letter:\")\n",
        "print(k)"
      ],
      "execution_count": null,
      "outputs": [
        {
          "output_type": "stream",
          "text": [
            "Enter file name: /content/sample_data/file.txt\n",
            "Enter letter to be searched:r\n",
            "Occurrences of the letter:\n",
            "2\n"
          ],
          "name": "stdout"
        }
      ]
    },
    {
      "cell_type": "markdown",
      "metadata": {
        "id": "Mj0Um4-1pMyd",
        "colab_type": "text"
      },
      "source": [
        "3.Python Program to append the contents of one file to another file "
      ]
    },
    {
      "cell_type": "code",
      "metadata": {
        "id": "ZAgQch5dpdRw",
        "colab_type": "code",
        "colab": {
          "base_uri": "https://localhost:8080/",
          "height": 50
        },
        "outputId": "631587af-47c9-404e-95be-c7a2887517b3"
      },
      "source": [
        "name1 = input(\"Enter file to be read from: \")\n",
        "name2 = input(\"Enter file to be appended to: \")\n",
        "fin = open(name1, \"r\")\n",
        "data2 = fin.read()\n",
        "fin.close()\n",
        "fout = open(name2, \"a\")\n",
        "fout.write(data2)\n",
        "fout.close()"
      ],
      "execution_count": null,
      "outputs": [
        {
          "output_type": "stream",
          "text": [
            "Enter file to be read from: /content/sample_data/file.txt\n",
            "Enter file to be appended to: /content/sample_data/file1.txt\n"
          ],
          "name": "stdout"
        }
      ]
    },
    {
      "cell_type": "markdown",
      "metadata": {
        "id": "6OEuY1jRp_Ro",
        "colab_type": "text"
      },
      "source": [
        "4.Python Program to count the number of blank spaces in a text file"
      ]
    },
    {
      "cell_type": "code",
      "metadata": {
        "id": "IHdQAUF6qajD",
        "colab_type": "code",
        "colab": {
          "base_uri": "https://localhost:8080/",
          "height": 66
        },
        "outputId": "c67fd878-19a5-4c51-de40-b1244ecf2343"
      },
      "source": [
        "fname = input(\"Enter file name: \")\n",
        "k = 0\n",
        "\n",
        "with open(fname, 'r') as f:\n",
        "    for line in f:\n",
        "        words = line.split()\n",
        "        for i in words:\n",
        "            for letter in i:\n",
        "                if(letter.isspace):\n",
        "                    k=k+1\n",
        "print(\"Occurrences of blank spaces:\")\n",
        "print(k)"
      ],
      "execution_count": null,
      "outputs": [
        {
          "output_type": "stream",
          "text": [
            "Enter file name: /content/sample_data/file.txt\n",
            "Occurrences of blank spaces:\n",
            "25\n"
          ],
          "name": "stdout"
        }
      ]
    },
    {
      "cell_type": "markdown",
      "metadata": {
        "id": "CCYOMzikq2FR",
        "colab_type": "text"
      },
      "source": [
        "5.Python Program to read a file and capitalize the first letter of every word in the file and copy the every word capitalized content  into another file and read it ."
      ]
    },
    {
      "cell_type": "code",
      "metadata": {
        "id": "gFzxH8AJrEmv",
        "colab_type": "code",
        "colab": {
          "base_uri": "https://localhost:8080/",
          "height": 98
        },
        "outputId": "6a552695-c1d1-4e3d-cd76-6007cd16e675"
      },
      "source": [
        "fname = input(\"Enter file name: \")\n",
        "\n",
        "with open(fname, 'r') as f:\n",
        "    for line in f:\n",
        "        l=line.title()\n",
        "        print(l)"
      ],
      "execution_count": null,
      "outputs": [
        {
          "output_type": "stream",
          "text": [
            "Enter file name: /content/sample_data/file.txt\n",
            "My Name Is Peter\n",
            "\n",
            "I Am 20 Year Old\n",
            "\n"
          ],
          "name": "stdout"
        }
      ]
    },
    {
      "cell_type": "markdown",
      "metadata": {
        "id": "M5q7SsboJgXu",
        "colab_type": "text"
      },
      "source": [
        ". Add rollno and marks {name:mark} for n number of students through keyboard in a dictionary and print the marks in descending order with respective name."
      ]
    },
    {
      "cell_type": "code",
      "metadata": {
        "id": "nIGEu_4RJoSp",
        "colab_type": "code",
        "colab": {
          "base_uri": "https://localhost:8080/",
          "height": 147
        },
        "outputId": "64c6611a-f44f-44c0-b44f-a472e9ff35f0"
      },
      "source": [
        "dict={}\n",
        "n=int(input(\"enter the no of students\"))\n",
        "for i in range(n):\n",
        "  name=input(\"Enter the name\")\n",
        "  marks=int(input(\"Enter the marks\"))\n",
        "  dict[name]=marks\n",
        "print(dict)\n",
        "d1=dict.items()\n",
        "sort=sorted(d1,reverse=True);\n",
        "print(\"The sorted dictionary is\")\n",
        "print(sort)\n"
      ],
      "execution_count": 2,
      "outputs": [
        {
          "output_type": "stream",
          "text": [
            "enter the no of students2\n",
            "Enter the namezack\n",
            "Enter the marks90\n",
            "Enter the namepeter\n",
            "Enter the marks80\n",
            "{'zack': 90, 'peter': 80}\n",
            "The sorted dictionary is\n",
            "[('zack', 90), ('peter', 80)]\n"
          ],
          "name": "stdout"
        }
      ]
    },
    {
      "cell_type": "markdown",
      "metadata": {
        "id": "MAjpBUz1JzZ5",
        "colab_type": "text"
      },
      "source": [
        "Add name and salary {name:salary} for n number of employees through keyboard in a dictionary and print them in name alphabetical order with salary"
      ]
    },
    {
      "cell_type": "code",
      "metadata": {
        "id": "MGWYzuI0J24m",
        "colab_type": "code",
        "colab": {
          "base_uri": "https://localhost:8080/",
          "height": 147
        },
        "outputId": "140c0b37-2b6b-49de-c71f-e6b9939f28ac"
      },
      "source": [
        "dict={}\n",
        "n=int(input(\"enter the no of employees\"))\n",
        "for i in range(n):\n",
        "  name=input(\"Enter the name\")\n",
        "  marks=int(input(\"Enter the salary\"))\n",
        "  dict[name]=marks\n",
        "print(dict)\n",
        "d1=dict.items()\n",
        "sort=sorted(d1);\n",
        "print(\"The sorted dictionary is\")\n",
        "print(sort)\n"
      ],
      "execution_count": 3,
      "outputs": [
        {
          "output_type": "stream",
          "text": [
            "enter the no of employees2\n",
            "Enter the namezack\n",
            "Enter the salary5678\n",
            "Enter the namepeter\n",
            "Enter the salary87654\n",
            "{'zack': 5678, 'peter': 87654}\n",
            "The sorted dictionary is\n",
            "[('peter', 87654), ('zack', 5678)]\n"
          ],
          "name": "stdout"
        }
      ]
    },
    {
      "cell_type": "markdown",
      "metadata": {
        "id": "09XN9T2rKBfM",
        "colab_type": "text"
      },
      "source": [
        "Add name and salary {name:salary} for n number of employees through keyboard in a dictionary and print them in salary ascending order and sum, max, min and average of the salaries\n"
      ]
    },
    {
      "cell_type": "code",
      "metadata": {
        "id": "ADoUDiXAKJkr",
        "colab_type": "code",
        "colab": {
          "base_uri": "https://localhost:8080/",
          "height": 261
        },
        "outputId": "acfd4e77-ebc0-489d-d506-0fd79e7c4dc3"
      },
      "source": [
        "import statistics\n",
        "dict={}\n",
        "n=int(input(\"enter the no of employees\"))\n",
        "for i in range(n):\n",
        "  name=input(\"Enter the name\")\n",
        "  marks=int(input(\"Enter the salary\"))\n",
        "  dict[name]=marks\n",
        "print(dict)\n",
        "sort=sorted(dict.items(),key=lambda x:x[1]);\n",
        "print(\"The sorted dictionary is\")\n",
        "print(sort)\n",
        "print(\"The sum is\")\n",
        "print(sum(dict.values()))\n",
        "print(\"the maximum is\")\n",
        "max_val=max(dict,key=dict.get)\n",
        "print(max_val)\n",
        "print(\"the minimum is\")\n",
        "min_val=min(dict,key=dict.get)\n",
        "print(min_val)\n",
        " \n",
        "mean= statistics.mean(dict.values()) \n",
        " \n",
        "print(\"The average of salary is\",mean)\n"
      ],
      "execution_count": 4,
      "outputs": [
        {
          "output_type": "stream",
          "text": [
            "enter the no of employees2\n",
            "Enter the namezack\n",
            "Enter the salary690986\n",
            "Enter the namepeter\n",
            "Enter the salary76543\n",
            "{'zack': 690986, 'peter': 76543}\n",
            "The sorted dictionary is\n",
            "[('peter', 76543), ('zack', 690986)]\n",
            "The sum is\n",
            "767529\n",
            "the maximum is\n",
            "zack\n",
            "the minimum is\n",
            "peter\n",
            "The average of salary is 383764.5\n"
          ],
          "name": "stdout"
        }
      ]
    },
    {
      "cell_type": "markdown",
      "metadata": {
        "id": "cuf1OfMEKUzC",
        "colab_type": "text"
      },
      "source": [
        "Add name and salary {name:salary} for n number of employees through keyboard in a dictionary and print only the employees whose salary is greater than 2000 but less than 4000"
      ]
    },
    {
      "cell_type": "code",
      "metadata": {
        "id": "GIV_9rY-Kcss",
        "colab_type": "code",
        "colab": {
          "base_uri": "https://localhost:8080/",
          "height": 131
        },
        "outputId": "ce057563-1311-4a59-c3a9-d5d9f3f0f6c2"
      },
      "source": [
        "dict={}\n",
        "n=int(input(\"enter the no of employees\"))\n",
        "for i in range(n):\n",
        "  name=input(\"Enter the name\")\n",
        "  marks=int(input(\"Enter the salary\"))\n",
        "  dict[name]=marks\n",
        "print(dict)\n",
        "res={key:val for key, val in dict.items() if val>2000 and val<4000}\n",
        "print(res)\n"
      ],
      "execution_count": 5,
      "outputs": [
        {
          "output_type": "stream",
          "text": [
            "enter the no of employees2\n",
            "Enter the nametraea\n",
            "Enter the salary56789\n",
            "Enter the namezack\n",
            "Enter the salary98654\n",
            "{'traea': 56789, 'zack': 98654}\n",
            "{}\n"
          ],
          "name": "stdout"
        }
      ]
    },
    {
      "cell_type": "markdown",
      "metadata": {
        "id": "gYTAYzFiKm-1",
        "colab_type": "text"
      },
      "source": [
        "Python program to convert a 3 digit number into words"
      ]
    },
    {
      "cell_type": "code",
      "metadata": {
        "id": "BgdGLGA5KsRG",
        "colab_type": "code",
        "colab": {
          "base_uri": "https://localhost:8080/",
          "height": 50
        },
        "outputId": "53360fa4-7134-450c-8d96-bf19f088a999"
      },
      "source": [
        "d={0:'',1:'one',2:'two',3:'three',4:'four',5:'five',6:'six',7:'seven',8:'eight',9:'nine',\\\n",
        "   10:'ten',11:'eleven',12:'twelve',13:'thirteen',14:'fourteen',15:'fifteen',16:'sixteen',\\\n",
        "   17:'seventeen',18:'eightteen',19:'nineteen',20:'twenty',30:'thirty',40:'fourty',50:'fifty',\\\n",
        "   60:'sixty',70:'seventy',80:'eighty',90:'ninty',100:'hundred',200:'twohundred',300:'threehundred',400:'fourhundred',500:'fivehundred',600:'sixhundred',700:'sevenhundred',800:'eighthundred',900:'ninehundred'}\n",
        "num=int(input(\"Enter the integer between 1 to 999:\"))\n",
        "if (num<=20):\n",
        "      print(d[num])\n",
        "if(num>20 and num<1000):\n",
        "        if num%10==0:       \n",
        "            print(d[num])\n",
        "        else:\n",
        "            print(d[num//10*10]+\" \"+d[num%10])\n"
      ],
      "execution_count": 6,
      "outputs": [
        {
          "output_type": "stream",
          "text": [
            "Enter the integer between 1 to 999:55\n",
            "fifty five\n"
          ],
          "name": "stdout"
        }
      ]
    }
  ]
}