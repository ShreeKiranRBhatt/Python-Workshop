{
  "nbformat": 4,
  "nbformat_minor": 0,
  "metadata": {
    "colab": {
      "name": "Day 2 session 1 Exercise Programs",
      "provenance": [],
      "collapsed_sections": [],
      "authorship_tag": "ABX9TyOK0vrW3IrAq0oswU9VSFL3",
      "include_colab_link": true
    },
    "kernelspec": {
      "name": "python3",
      "display_name": "Python 3"
    }
  },
  "cells": [
    {
      "cell_type": "markdown",
      "metadata": {
        "id": "view-in-github",
        "colab_type": "text"
      },
      "source": [
        "<a href=\"https://colab.research.google.com/github/ShreeKiranRBhatt/Python-Workshop/blob/master/Day_2_session_1_Exercise_Programs.ipynb\" target=\"_parent\"><img src=\"https://colab.research.google.com/assets/colab-badge.svg\" alt=\"Open In Colab\"/></a>"
      ]
    },
    {
      "cell_type": "markdown",
      "metadata": {
        "id": "tXHawBAb6FIN",
        "colab_type": "text"
      },
      "source": [
        "1. print multiples of 3 upto 200 using a list"
      ]
    },
    {
      "cell_type": "code",
      "metadata": {
        "id": "WFpJjJ2V6K11",
        "colab_type": "code",
        "colab": {
          "base_uri": "https://localhost:8080/",
          "height": 1000
        },
        "outputId": "b47c43a2-a4f8-4ad0-cfda-97c96a8b8600"
      },
      "source": [
        "[i for i in range(200) if i % 3 == 0 ]"
      ],
      "execution_count": null,
      "outputs": [
        {
          "output_type": "execute_result",
          "data": {
            "text/plain": [
              "[0,\n",
              " 3,\n",
              " 6,\n",
              " 9,\n",
              " 12,\n",
              " 15,\n",
              " 18,\n",
              " 21,\n",
              " 24,\n",
              " 27,\n",
              " 30,\n",
              " 33,\n",
              " 36,\n",
              " 39,\n",
              " 42,\n",
              " 45,\n",
              " 48,\n",
              " 51,\n",
              " 54,\n",
              " 57,\n",
              " 60,\n",
              " 63,\n",
              " 66,\n",
              " 69,\n",
              " 72,\n",
              " 75,\n",
              " 78,\n",
              " 81,\n",
              " 84,\n",
              " 87,\n",
              " 90,\n",
              " 93,\n",
              " 96,\n",
              " 99,\n",
              " 102,\n",
              " 105,\n",
              " 108,\n",
              " 111,\n",
              " 114,\n",
              " 117,\n",
              " 120,\n",
              " 123,\n",
              " 126,\n",
              " 129,\n",
              " 132,\n",
              " 135,\n",
              " 138,\n",
              " 141,\n",
              " 144,\n",
              " 147,\n",
              " 150,\n",
              " 153,\n",
              " 156,\n",
              " 159,\n",
              " 162,\n",
              " 165,\n",
              " 168,\n",
              " 171,\n",
              " 174,\n",
              " 177,\n",
              " 180,\n",
              " 183,\n",
              " 186,\n",
              " 189,\n",
              " 192,\n",
              " 195,\n",
              " 198]"
            ]
          },
          "metadata": {
            "tags": []
          },
          "execution_count": 1
        }
      ]
    },
    {
      "cell_type": "markdown",
      "metadata": {
        "id": "jcyZ266B6hxK",
        "colab_type": "text"
      },
      "source": [
        "2. print the nos only divisable by 5 and 7 between 1000 and 2000 using a list( both inclusive)"
      ]
    },
    {
      "cell_type": "code",
      "metadata": {
        "id": "OjDJFI6Z6n1c",
        "colab_type": "code",
        "colab": {
          "base_uri": "https://localhost:8080/",
          "height": 1000
        },
        "outputId": "8e665d71-d44e-420e-a6ec-e65a06e53889"
      },
      "source": [
        "[i for i in range(1000,2000) if i % 5 == 0 or i % 7 == 0 ]"
      ],
      "execution_count": null,
      "outputs": [
        {
          "output_type": "execute_result",
          "data": {
            "text/plain": [
              "[1000,\n",
              " 1001,\n",
              " 1005,\n",
              " 1008,\n",
              " 1010,\n",
              " 1015,\n",
              " 1020,\n",
              " 1022,\n",
              " 1025,\n",
              " 1029,\n",
              " 1030,\n",
              " 1035,\n",
              " 1036,\n",
              " 1040,\n",
              " 1043,\n",
              " 1045,\n",
              " 1050,\n",
              " 1055,\n",
              " 1057,\n",
              " 1060,\n",
              " 1064,\n",
              " 1065,\n",
              " 1070,\n",
              " 1071,\n",
              " 1075,\n",
              " 1078,\n",
              " 1080,\n",
              " 1085,\n",
              " 1090,\n",
              " 1092,\n",
              " 1095,\n",
              " 1099,\n",
              " 1100,\n",
              " 1105,\n",
              " 1106,\n",
              " 1110,\n",
              " 1113,\n",
              " 1115,\n",
              " 1120,\n",
              " 1125,\n",
              " 1127,\n",
              " 1130,\n",
              " 1134,\n",
              " 1135,\n",
              " 1140,\n",
              " 1141,\n",
              " 1145,\n",
              " 1148,\n",
              " 1150,\n",
              " 1155,\n",
              " 1160,\n",
              " 1162,\n",
              " 1165,\n",
              " 1169,\n",
              " 1170,\n",
              " 1175,\n",
              " 1176,\n",
              " 1180,\n",
              " 1183,\n",
              " 1185,\n",
              " 1190,\n",
              " 1195,\n",
              " 1197,\n",
              " 1200,\n",
              " 1204,\n",
              " 1205,\n",
              " 1210,\n",
              " 1211,\n",
              " 1215,\n",
              " 1218,\n",
              " 1220,\n",
              " 1225,\n",
              " 1230,\n",
              " 1232,\n",
              " 1235,\n",
              " 1239,\n",
              " 1240,\n",
              " 1245,\n",
              " 1246,\n",
              " 1250,\n",
              " 1253,\n",
              " 1255,\n",
              " 1260,\n",
              " 1265,\n",
              " 1267,\n",
              " 1270,\n",
              " 1274,\n",
              " 1275,\n",
              " 1280,\n",
              " 1281,\n",
              " 1285,\n",
              " 1288,\n",
              " 1290,\n",
              " 1295,\n",
              " 1300,\n",
              " 1302,\n",
              " 1305,\n",
              " 1309,\n",
              " 1310,\n",
              " 1315,\n",
              " 1316,\n",
              " 1320,\n",
              " 1323,\n",
              " 1325,\n",
              " 1330,\n",
              " 1335,\n",
              " 1337,\n",
              " 1340,\n",
              " 1344,\n",
              " 1345,\n",
              " 1350,\n",
              " 1351,\n",
              " 1355,\n",
              " 1358,\n",
              " 1360,\n",
              " 1365,\n",
              " 1370,\n",
              " 1372,\n",
              " 1375,\n",
              " 1379,\n",
              " 1380,\n",
              " 1385,\n",
              " 1386,\n",
              " 1390,\n",
              " 1393,\n",
              " 1395,\n",
              " 1400,\n",
              " 1405,\n",
              " 1407,\n",
              " 1410,\n",
              " 1414,\n",
              " 1415,\n",
              " 1420,\n",
              " 1421,\n",
              " 1425,\n",
              " 1428,\n",
              " 1430,\n",
              " 1435,\n",
              " 1440,\n",
              " 1442,\n",
              " 1445,\n",
              " 1449,\n",
              " 1450,\n",
              " 1455,\n",
              " 1456,\n",
              " 1460,\n",
              " 1463,\n",
              " 1465,\n",
              " 1470,\n",
              " 1475,\n",
              " 1477,\n",
              " 1480,\n",
              " 1484,\n",
              " 1485,\n",
              " 1490,\n",
              " 1491,\n",
              " 1495,\n",
              " 1498,\n",
              " 1500,\n",
              " 1505,\n",
              " 1510,\n",
              " 1512,\n",
              " 1515,\n",
              " 1519,\n",
              " 1520,\n",
              " 1525,\n",
              " 1526,\n",
              " 1530,\n",
              " 1533,\n",
              " 1535,\n",
              " 1540,\n",
              " 1545,\n",
              " 1547,\n",
              " 1550,\n",
              " 1554,\n",
              " 1555,\n",
              " 1560,\n",
              " 1561,\n",
              " 1565,\n",
              " 1568,\n",
              " 1570,\n",
              " 1575,\n",
              " 1580,\n",
              " 1582,\n",
              " 1585,\n",
              " 1589,\n",
              " 1590,\n",
              " 1595,\n",
              " 1596,\n",
              " 1600,\n",
              " 1603,\n",
              " 1605,\n",
              " 1610,\n",
              " 1615,\n",
              " 1617,\n",
              " 1620,\n",
              " 1624,\n",
              " 1625,\n",
              " 1630,\n",
              " 1631,\n",
              " 1635,\n",
              " 1638,\n",
              " 1640,\n",
              " 1645,\n",
              " 1650,\n",
              " 1652,\n",
              " 1655,\n",
              " 1659,\n",
              " 1660,\n",
              " 1665,\n",
              " 1666,\n",
              " 1670,\n",
              " 1673,\n",
              " 1675,\n",
              " 1680,\n",
              " 1685,\n",
              " 1687,\n",
              " 1690,\n",
              " 1694,\n",
              " 1695,\n",
              " 1700,\n",
              " 1701,\n",
              " 1705,\n",
              " 1708,\n",
              " 1710,\n",
              " 1715,\n",
              " 1720,\n",
              " 1722,\n",
              " 1725,\n",
              " 1729,\n",
              " 1730,\n",
              " 1735,\n",
              " 1736,\n",
              " 1740,\n",
              " 1743,\n",
              " 1745,\n",
              " 1750,\n",
              " 1755,\n",
              " 1757,\n",
              " 1760,\n",
              " 1764,\n",
              " 1765,\n",
              " 1770,\n",
              " 1771,\n",
              " 1775,\n",
              " 1778,\n",
              " 1780,\n",
              " 1785,\n",
              " 1790,\n",
              " 1792,\n",
              " 1795,\n",
              " 1799,\n",
              " 1800,\n",
              " 1805,\n",
              " 1806,\n",
              " 1810,\n",
              " 1813,\n",
              " 1815,\n",
              " 1820,\n",
              " 1825,\n",
              " 1827,\n",
              " 1830,\n",
              " 1834,\n",
              " 1835,\n",
              " 1840,\n",
              " 1841,\n",
              " 1845,\n",
              " 1848,\n",
              " 1850,\n",
              " 1855,\n",
              " 1860,\n",
              " 1862,\n",
              " 1865,\n",
              " 1869,\n",
              " 1870,\n",
              " 1875,\n",
              " 1876,\n",
              " 1880,\n",
              " 1883,\n",
              " 1885,\n",
              " 1890,\n",
              " 1895,\n",
              " 1897,\n",
              " 1900,\n",
              " 1904,\n",
              " 1905,\n",
              " 1910,\n",
              " 1911,\n",
              " 1915,\n",
              " 1918,\n",
              " 1920,\n",
              " 1925,\n",
              " 1930,\n",
              " 1932,\n",
              " 1935,\n",
              " 1939,\n",
              " 1940,\n",
              " 1945,\n",
              " 1946,\n",
              " 1950,\n",
              " 1953,\n",
              " 1955,\n",
              " 1960,\n",
              " 1965,\n",
              " 1967,\n",
              " 1970,\n",
              " 1974,\n",
              " 1975,\n",
              " 1980,\n",
              " 1981,\n",
              " 1985,\n",
              " 1988,\n",
              " 1990,\n",
              " 1995]"
            ]
          },
          "metadata": {
            "tags": []
          },
          "execution_count": 2
        }
      ]
    },
    {
      "cell_type": "markdown",
      "metadata": {
        "id": "tJ5dEHwjcuaQ",
        "colab_type": "text"
      },
      "source": [
        "3.Add the n number of names in a list and print them alphabetically and reverse alphabetically"
      ]
    },
    {
      "cell_type": "code",
      "metadata": {
        "id": "9Kx_QkIGcysu",
        "colab_type": "code",
        "colab": {
          "base_uri": "https://localhost:8080/",
          "height": 108
        },
        "outputId": "d6b56f6e-d39b-414b-8998-f048d46d6a8f"
      },
      "source": [
        "a=[]\n",
        "n=int(input(\"enter the no of names\"))\n",
        "for i in range(1,n+1):\n",
        "  b=input(\"enter the name\")\n",
        "  a.append(b)\n",
        "a.sort()\n",
        "print(a)"
      ],
      "execution_count": null,
      "outputs": [
        {
          "output_type": "stream",
          "text": [
            "enter the no of names3\n",
            "enter the namedad\n",
            "enter the namemom\n",
            "enter the namesister\n",
            "['dad', 'mom', 'sister']\n"
          ],
          "name": "stdout"
        }
      ]
    },
    {
      "cell_type": "markdown",
      "metadata": {
        "id": "ehREMhpMhMvN",
        "colab_type": "text"
      },
      "source": [
        "4. Print  perfect squares and divisible by 5 between 500 and 1000( (both inclusive) using list\n",
        "\n"
      ]
    },
    {
      "cell_type": "code",
      "metadata": {
        "id": "Cx3KqYYwhXxR",
        "colab_type": "code",
        "colab": {
          "base_uri": "https://localhost:8080/",
          "height": 66
        },
        "outputId": "ba058378-a791-4297-dbf2-da0d4abbd16d"
      },
      "source": [
        "l=int(input(\"Enter lower range: \"))\n",
        "u=int(input(\"Enter upper range: \"))\n",
        "a=[]\n",
        "a=[x for x in range(l,u+1) if (int(x**0.5))**2==x or x % 5 == 0]\n",
        "print(a)"
      ],
      "execution_count": null,
      "outputs": [
        {
          "output_type": "stream",
          "text": [
            "Enter lower range: 2\n",
            "Enter upper range: 4\n",
            "[4]\n"
          ],
          "name": "stdout"
        }
      ]
    },
    {
      "cell_type": "markdown",
      "metadata": {
        "id": "BV4Wj1CXh2qp",
        "colab_type": "text"
      },
      "source": [
        "5.Calculate the Average of  the numbers in a List by getting the elements of list from keyboard "
      ]
    },
    {
      "cell_type": "code",
      "metadata": {
        "id": "RcqGsUd7h3qW",
        "colab_type": "code",
        "colab": {
          "base_uri": "https://localhost:8080/",
          "height": 82
        },
        "outputId": "ddf94af0-0ce8-4480-8210-d777aed8c1db"
      },
      "source": [
        "n=int(input(\"Enter the number of elements to be inserted: \"))\n",
        "a=[]\n",
        "for i in range(0,n):\n",
        "    elem=int(input(\"Enter element: \"))\n",
        "    a.append(elem)\n",
        "avg=sum(a)/n\n",
        "print(\"Average of elements in the list\",round(avg,2))"
      ],
      "execution_count": null,
      "outputs": [
        {
          "output_type": "stream",
          "text": [
            "Enter the number of elements to be inserted: 2\n",
            "Enter element: 3\n",
            "Enter element: 4\n",
            "Average of elements in the list 3.5\n"
          ],
          "name": "stdout"
        }
      ]
    },
    {
      "cell_type": "markdown",
      "metadata": {
        "id": "DqdgBsIgiVhD",
        "colab_type": "text"
      },
      "source": [
        "6. Print lists of odd,even and multiples of 5 numbers from 1 to 1000 using list comprehension\n",
        "\n"
      ]
    },
    {
      "cell_type": "code",
      "metadata": {
        "id": "xGLpITd8iWRs",
        "colab_type": "code",
        "colab": {
          "base_uri": "https://localhost:8080/",
          "height": 53
        },
        "outputId": "300bb629-1eb3-484b-8572-9c0845dd3744"
      },
      "source": [
        "number_list = [ x for x in range(1,1000) if x % 2 == 0 or x % 2 == 1 or x % 5 == 0 ]\n",
        "print(number_list)\n",
        "\n"
      ],
      "execution_count": null,
      "outputs": [
        {
          "output_type": "stream",
          "text": [
            "[1, 2, 3, 4, 5, 6, 7, 8, 9, 10, 11, 12, 13, 14, 15, 16, 17, 18, 19, 20, 21, 22, 23, 24, 25, 26, 27, 28, 29, 30, 31, 32, 33, 34, 35, 36, 37, 38, 39, 40, 41, 42, 43, 44, 45, 46, 47, 48, 49, 50, 51, 52, 53, 54, 55, 56, 57, 58, 59, 60, 61, 62, 63, 64, 65, 66, 67, 68, 69, 70, 71, 72, 73, 74, 75, 76, 77, 78, 79, 80, 81, 82, 83, 84, 85, 86, 87, 88, 89, 90, 91, 92, 93, 94, 95, 96, 97, 98, 99, 100, 101, 102, 103, 104, 105, 106, 107, 108, 109, 110, 111, 112, 113, 114, 115, 116, 117, 118, 119, 120, 121, 122, 123, 124, 125, 126, 127, 128, 129, 130, 131, 132, 133, 134, 135, 136, 137, 138, 139, 140, 141, 142, 143, 144, 145, 146, 147, 148, 149, 150, 151, 152, 153, 154, 155, 156, 157, 158, 159, 160, 161, 162, 163, 164, 165, 166, 167, 168, 169, 170, 171, 172, 173, 174, 175, 176, 177, 178, 179, 180, 181, 182, 183, 184, 185, 186, 187, 188, 189, 190, 191, 192, 193, 194, 195, 196, 197, 198, 199, 200, 201, 202, 203, 204, 205, 206, 207, 208, 209, 210, 211, 212, 213, 214, 215, 216, 217, 218, 219, 220, 221, 222, 223, 224, 225, 226, 227, 228, 229, 230, 231, 232, 233, 234, 235, 236, 237, 238, 239, 240, 241, 242, 243, 244, 245, 246, 247, 248, 249, 250, 251, 252, 253, 254, 255, 256, 257, 258, 259, 260, 261, 262, 263, 264, 265, 266, 267, 268, 269, 270, 271, 272, 273, 274, 275, 276, 277, 278, 279, 280, 281, 282, 283, 284, 285, 286, 287, 288, 289, 290, 291, 292, 293, 294, 295, 296, 297, 298, 299, 300, 301, 302, 303, 304, 305, 306, 307, 308, 309, 310, 311, 312, 313, 314, 315, 316, 317, 318, 319, 320, 321, 322, 323, 324, 325, 326, 327, 328, 329, 330, 331, 332, 333, 334, 335, 336, 337, 338, 339, 340, 341, 342, 343, 344, 345, 346, 347, 348, 349, 350, 351, 352, 353, 354, 355, 356, 357, 358, 359, 360, 361, 362, 363, 364, 365, 366, 367, 368, 369, 370, 371, 372, 373, 374, 375, 376, 377, 378, 379, 380, 381, 382, 383, 384, 385, 386, 387, 388, 389, 390, 391, 392, 393, 394, 395, 396, 397, 398, 399, 400, 401, 402, 403, 404, 405, 406, 407, 408, 409, 410, 411, 412, 413, 414, 415, 416, 417, 418, 419, 420, 421, 422, 423, 424, 425, 426, 427, 428, 429, 430, 431, 432, 433, 434, 435, 436, 437, 438, 439, 440, 441, 442, 443, 444, 445, 446, 447, 448, 449, 450, 451, 452, 453, 454, 455, 456, 457, 458, 459, 460, 461, 462, 463, 464, 465, 466, 467, 468, 469, 470, 471, 472, 473, 474, 475, 476, 477, 478, 479, 480, 481, 482, 483, 484, 485, 486, 487, 488, 489, 490, 491, 492, 493, 494, 495, 496, 497, 498, 499, 500, 501, 502, 503, 504, 505, 506, 507, 508, 509, 510, 511, 512, 513, 514, 515, 516, 517, 518, 519, 520, 521, 522, 523, 524, 525, 526, 527, 528, 529, 530, 531, 532, 533, 534, 535, 536, 537, 538, 539, 540, 541, 542, 543, 544, 545, 546, 547, 548, 549, 550, 551, 552, 553, 554, 555, 556, 557, 558, 559, 560, 561, 562, 563, 564, 565, 566, 567, 568, 569, 570, 571, 572, 573, 574, 575, 576, 577, 578, 579, 580, 581, 582, 583, 584, 585, 586, 587, 588, 589, 590, 591, 592, 593, 594, 595, 596, 597, 598, 599, 600, 601, 602, 603, 604, 605, 606, 607, 608, 609, 610, 611, 612, 613, 614, 615, 616, 617, 618, 619, 620, 621, 622, 623, 624, 625, 626, 627, 628, 629, 630, 631, 632, 633, 634, 635, 636, 637, 638, 639, 640, 641, 642, 643, 644, 645, 646, 647, 648, 649, 650, 651, 652, 653, 654, 655, 656, 657, 658, 659, 660, 661, 662, 663, 664, 665, 666, 667, 668, 669, 670, 671, 672, 673, 674, 675, 676, 677, 678, 679, 680, 681, 682, 683, 684, 685, 686, 687, 688, 689, 690, 691, 692, 693, 694, 695, 696, 697, 698, 699, 700, 701, 702, 703, 704, 705, 706, 707, 708, 709, 710, 711, 712, 713, 714, 715, 716, 717, 718, 719, 720, 721, 722, 723, 724, 725, 726, 727, 728, 729, 730, 731, 732, 733, 734, 735, 736, 737, 738, 739, 740, 741, 742, 743, 744, 745, 746, 747, 748, 749, 750, 751, 752, 753, 754, 755, 756, 757, 758, 759, 760, 761, 762, 763, 764, 765, 766, 767, 768, 769, 770, 771, 772, 773, 774, 775, 776, 777, 778, 779, 780, 781, 782, 783, 784, 785, 786, 787, 788, 789, 790, 791, 792, 793, 794, 795, 796, 797, 798, 799, 800, 801, 802, 803, 804, 805, 806, 807, 808, 809, 810, 811, 812, 813, 814, 815, 816, 817, 818, 819, 820, 821, 822, 823, 824, 825, 826, 827, 828, 829, 830, 831, 832, 833, 834, 835, 836, 837, 838, 839, 840, 841, 842, 843, 844, 845, 846, 847, 848, 849, 850, 851, 852, 853, 854, 855, 856, 857, 858, 859, 860, 861, 862, 863, 864, 865, 866, 867, 868, 869, 870, 871, 872, 873, 874, 875, 876, 877, 878, 879, 880, 881, 882, 883, 884, 885, 886, 887, 888, 889, 890, 891, 892, 893, 894, 895, 896, 897, 898, 899, 900, 901, 902, 903, 904, 905, 906, 907, 908, 909, 910, 911, 912, 913, 914, 915, 916, 917, 918, 919, 920, 921, 922, 923, 924, 925, 926, 927, 928, 929, 930, 931, 932, 933, 934, 935, 936, 937, 938, 939, 940, 941, 942, 943, 944, 945, 946, 947, 948, 949, 950, 951, 952, 953, 954, 955, 956, 957, 958, 959, 960, 961, 962, 963, 964, 965, 966, 967, 968, 969, 970, 971, 972, 973, 974, 975, 976, 977, 978, 979, 980, 981, 982, 983, 984, 985, 986, 987, 988, 989, 990, 991, 992, 993, 994, 995, 996, 997, 998, 999]\n"
          ],
          "name": "stdout"
        }
      ]
    },
    {
      "cell_type": "markdown",
      "metadata": {
        "id": "BlKNOFZjN4Se",
        "colab_type": "text"
      },
      "source": [
        "Tuples\n"
      ]
    },
    {
      "cell_type": "markdown",
      "metadata": {
        "id": "A4Mr4qghN8Rg",
        "colab_type": "text"
      },
      "source": [
        "Python Program to Create a List of Tuples with the First Element as the Number and Second Element as the Square of the Number"
      ]
    },
    {
      "cell_type": "code",
      "metadata": {
        "id": "pYpPcJWTOCu3",
        "colab_type": "code",
        "colab": {
          "base_uri": "https://localhost:8080/",
          "height": 66
        },
        "outputId": "8ecffc0b-ee94-412f-9881-0a3474c50cc5"
      },
      "source": [
        "l_range=int(input(\"Enter the lower range:\"))\n",
        "u_range=int(input(\"Enter the upper range:\"))\n",
        "a=[(x,x**2) for x in range(l_range,u_range+1)]\n",
        "print(a)\n"
      ],
      "execution_count": null,
      "outputs": [
        {
          "output_type": "stream",
          "text": [
            "Enter the lower range:3\n",
            "Enter the upper range:2\n",
            "[]\n"
          ],
          "name": "stdout"
        }
      ]
    },
    {
      "cell_type": "markdown",
      "metadata": {
        "id": "Ibv7XyD_TSIz",
        "colab_type": "text"
      },
      "source": [
        "Write python program to have a list of words to sort them from shortest to longest using list of tuples"
      ]
    },
    {
      "cell_type": "code",
      "metadata": {
        "id": "7lNK8FDhGZUO",
        "colab_type": "code",
        "colab": {
          "base_uri": "https://localhost:8080/",
          "height": 33
        },
        "outputId": "8b9b067e-fece-4c44-c40c-e46d86190bdb"
      },
      "source": [
        "txt = 'but soft what light in yonder window breaks'\n",
        "words = txt.split()\n",
        "t = list()\n",
        "for word in words:\n",
        "   t.append((len(word), word))\n",
        "t.sort(reverse=True)\n",
        "\n",
        "res = list()\n",
        "for length, word in t:\n",
        "    res.append(word)\n",
        "\n",
        "print(res)\n"
      ],
      "execution_count": 1,
      "outputs": [
        {
          "output_type": "stream",
          "text": [
            "['yonder', 'window', 'breaks', 'light', 'what', 'soft', 'but', 'in']\n"
          ],
          "name": "stdout"
        }
      ]
    },
    {
      "cell_type": "markdown",
      "metadata": {
        "id": "vbZx5ST_GpzC",
        "colab_type": "text"
      },
      "source": [
        "Write python program to get a list of tuples of Rollno,Name for 5 students through keyboard and sort them Rollno wise ascending order\n",
        "\n"
      ]
    },
    {
      "cell_type": "code",
      "metadata": {
        "id": "luTRf9hVGqi5",
        "colab_type": "code",
        "colab": {
          "base_uri": "https://localhost:8080/",
          "height": 131
        },
        "outputId": "6b7f626e-55eb-49a9-9671-ae16b6c96d7f"
      },
      "source": [
        "l = []\n",
        " \n",
        "def inp():\n",
        "  name = input('Name : ')\n",
        "  rolno = input(' Rol No : ')\n",
        "  return (name,rolno)  # returns tuples\n",
        " \n",
        "n = int(input('Number of Students : '))\n",
        "for x in range(n):\n",
        "  l.append(inp())\n",
        " \n",
        "print(f'Original : {l}')\n",
        " \n",
        "l.sort(key = lambda x:x[1])\n",
        "print(f'According to Rol No : Ascending :{l}')\n"
      ],
      "execution_count": 2,
      "outputs": [
        {
          "output_type": "stream",
          "text": [
            "Number of Students : 2\n",
            "Name : rita\n",
            " Rol No : 456\n",
            "Name : trew\n",
            " Rol No : 4567\n",
            "Original : [('rita', '456'), ('trew', '4567')]\n",
            "According to Rol No : Ascending :[('rita', '456'), ('trew', '4567')]\n"
          ],
          "name": "stdout"
        }
      ]
    },
    {
      "cell_type": "markdown",
      "metadata": {
        "id": "5_AWJ6fBHfBY",
        "colab_type": "text"
      },
      "source": [
        ".Write python program to get a list of tuples of Rollno,Name for 5 students through keyboard and sort them by Rollno wise descending order\n",
        "\n"
      ]
    },
    {
      "cell_type": "code",
      "metadata": {
        "id": "PNVvCAvhHhXn",
        "colab_type": "code",
        "colab": {
          "base_uri": "https://localhost:8080/",
          "height": 131
        },
        "outputId": "792fcf53-6443-4b6b-b499-ced28e5f2a09"
      },
      "source": [
        "l = []\n",
        " \n",
        "def inp():\n",
        "  name = input('Name : ')\n",
        "  rolno = input(' Rol No : ')\n",
        "  return (name,rolno)  # returns tuples\n",
        " \n",
        "n = int(input('Number of Students : '))\n",
        "for x in range(n):\n",
        "  l.append(inp())\n",
        " \n",
        "print(f'Original : {l}')\n",
        " \n",
        "l.sort(key = lambda x:x[1])\n",
        "print(f'According to Rol No : Descending :{l[::-1]}')\n"
      ],
      "execution_count": 3,
      "outputs": [
        {
          "output_type": "stream",
          "text": [
            "Number of Students : 2\n",
            "Name : jack\n",
            " Rol No : 1\n",
            "Name : tera\n",
            " Rol No : 2\n",
            "Original : [('jack', '1'), ('tera', '2')]\n",
            "According to Rol No : Descending :[('tera', '2'), ('jack', '1')]\n"
          ],
          "name": "stdout"
        }
      ]
    },
    {
      "cell_type": "markdown",
      "metadata": {
        "id": "Hewsk1AwHwc6",
        "colab_type": "text"
      },
      "source": [
        ".Write python program to get a list of tuples of Rollno,Name for 5 students through keyboard and sort them by name wise ascending order"
      ]
    },
    {
      "cell_type": "code",
      "metadata": {
        "id": "4GKF-nH1HxPr",
        "colab_type": "code",
        "colab": {
          "base_uri": "https://localhost:8080/",
          "height": 131
        },
        "outputId": "006b998c-23c9-4118-8c1e-f7bb860b5873"
      },
      "source": [
        "l = []\n",
        " \n",
        "def inp():\n",
        "  name = input('Name : ')\n",
        "  rolno = input(' Rol No : ')\n",
        "  return (name,rolno)  # returns tuples\n",
        " \n",
        "n = int(input('Number of Students : '))\n",
        "for x in range(n):\n",
        "  l.append(inp())\n",
        " \n",
        "print(f'Original : {l}')\n",
        " \n",
        "l.sort(key = lambda x:x[0])\n",
        "print(f'According to Name : Ascending :{l}')\n"
      ],
      "execution_count": 4,
      "outputs": [
        {
          "output_type": "stream",
          "text": [
            "Number of Students : 2\n",
            "Name : tiea\n",
            " Rol No : 1\n",
            "Name : trew\n",
            " Rol No : 2\n",
            "Original : [('tiea', '1'), ('trew', '2')]\n",
            "According to Name : Ascending :[('tiea', '1'), ('trew', '2')]\n"
          ],
          "name": "stdout"
        }
      ]
    },
    {
      "cell_type": "markdown",
      "metadata": {
        "id": "RQe-Ut0DH-Je",
        "colab_type": "text"
      },
      "source": [
        "Write python program to get a list of tuples of Rollno,Name for 5 students through keyboard and sort them by name wise descending order\n",
        "\n"
      ]
    },
    {
      "cell_type": "code",
      "metadata": {
        "id": "hepYdQKxICpp",
        "colab_type": "code",
        "colab": {
          "base_uri": "https://localhost:8080/",
          "height": 131
        },
        "outputId": "033bf427-9a35-48b2-c6dd-81f5d4f80e69"
      },
      "source": [
        "l = []\n",
        " \n",
        "def inp():\n",
        "  name = input('Name : ')\n",
        "  rolno = input(' Rol No : ')\n",
        "  return (name,rolno)  # returns tuples\n",
        " \n",
        "n = int(input('Number of Students : '))\n",
        "for x in range(n):\n",
        "  l.append(inp())\n",
        " \n",
        "print(f'Original : {l}')\n",
        " \n",
        " \n",
        "l.sort(key = lambda x:x[0])\n",
        "print(f'According to Name : Descending :{l[::-1]}')\n"
      ],
      "execution_count": 5,
      "outputs": [
        {
          "output_type": "stream",
          "text": [
            "Number of Students : 2\n",
            "Name : peter\n",
            " Rol No : 1\n",
            "Name : hanah\n",
            " Rol No : 2\n",
            "Original : [('peter', '1'), ('hanah', '2')]\n",
            "According to Name : Descending :[('peter', '1'), ('hanah', '2')]\n"
          ],
          "name": "stdout"
        }
      ]
    }
  ]
}