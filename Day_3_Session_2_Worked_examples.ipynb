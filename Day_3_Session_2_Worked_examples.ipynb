{
  "nbformat": 4,
  "nbformat_minor": 0,
  "metadata": {
    "colab": {
      "name": "Day 3 Session 2 Worked examples",
      "provenance": [],
      "authorship_tag": "ABX9TyOE24o57epvJV6GywmP2nCD",
      "include_colab_link": true
    },
    "kernelspec": {
      "name": "python3",
      "display_name": "Python 3"
    }
  },
  "cells": [
    {
      "cell_type": "markdown",
      "metadata": {
        "id": "view-in-github",
        "colab_type": "text"
      },
      "source": [
        "<a href=\"https://colab.research.google.com/github/ShreeKiranRBhatt/Python-Workshop/blob/master/Day_3_Session_2_Worked_examples.ipynb\" target=\"_parent\"><img src=\"https://colab.research.google.com/assets/colab-badge.svg\" alt=\"Open In Colab\"/></a>"
      ]
    },
    {
      "cell_type": "markdown",
      "metadata": {
        "id": "BvD6sfSEa-br",
        "colab_type": "text"
      },
      "source": [
        "Finding the factorial of a number\n",
        "\n"
      ]
    },
    {
      "cell_type": "code",
      "metadata": {
        "id": "EU2kCJEIbDFI",
        "colab_type": "code",
        "colab": {
          "base_uri": "https://localhost:8080/",
          "height": 68
        },
        "outputId": "2454b64e-299d-4e37-80dd-8d3630eaa33a"
      },
      "source": [
        "#Python Program to find the factorial of a number using loop. \n",
        "n=int(input(\"Enter number:\"))\n",
        "fact=1\n",
        "while(n>0):\n",
        "    fact=fact*n\n",
        "    n=n-1\n",
        "print(\"Factorial of the number is: \")\n",
        "print(fact)\n"
      ],
      "execution_count": null,
      "outputs": [
        {
          "output_type": "stream",
          "text": [
            "Enter number:2\n",
            "Factorial of the number is: \n",
            "2\n"
          ],
          "name": "stdout"
        }
      ]
    },
    {
      "cell_type": "markdown",
      "metadata": {
        "id": "zgCZJhN0bLh3",
        "colab_type": "text"
      },
      "source": [
        "Program for multiples of 2 of a list without list comprehension"
      ]
    },
    {
      "cell_type": "code",
      "metadata": {
        "id": "miQyNBSqbN-8",
        "colab_type": "code",
        "colab": {
          "base_uri": "https://localhost:8080/",
          "height": 34
        },
        "outputId": "c84f1caf-d26a-4fcf-dc4e-f493615aef5c"
      },
      "source": [
        "x=[1, 2, 3, 4, 5, 6]\n",
        "result = []\n",
        "for idx in range(len(x)):\n",
        "  result.append(x[idx] * 2)\n",
        "print(result)\n"
      ],
      "execution_count": null,
      "outputs": [
        {
          "output_type": "stream",
          "text": [
            "[2, 4, 6, 8, 10, 12]\n"
          ],
          "name": "stdout"
        }
      ]
    },
    {
      "cell_type": "markdown",
      "metadata": {
        "id": "pOuTQafHbUzc",
        "colab_type": "text"
      },
      "source": [
        "Single line program of Pythonic coding"
      ]
    },
    {
      "cell_type": "code",
      "metadata": {
        "id": "9mfd9fjJbVeH",
        "colab_type": "code",
        "colab": {
          "base_uri": "https://localhost:8080/",
          "height": 34
        },
        "outputId": "060eb933-b1ed-43aa-eacc-028a0d876de9"
      },
      "source": [
        "print([i*2 for i in [1, 2, 3, 4, 5, 6] ])"
      ],
      "execution_count": null,
      "outputs": [
        {
          "output_type": "stream",
          "text": [
            "[2, 4, 6, 8, 10, 12]\n"
          ],
          "name": "stdout"
        }
      ]
    },
    {
      "cell_type": "markdown",
      "metadata": {
        "id": "_0ogAC5PbaGg",
        "colab_type": "text"
      },
      "source": [
        "More Pythonic program of 3 lines!"
      ]
    },
    {
      "cell_type": "code",
      "metadata": {
        "id": "5hlUhHPvba3B",
        "colab_type": "code",
        "colab": {
          "base_uri": "https://localhost:8080/",
          "height": 51
        },
        "outputId": "50cf30b1-ca98-45f5-ede5-6312b68e6a8e"
      },
      "source": [
        "from functools import reduce\n",
        "sequences = [x for x in range(1,int(input('Enter no'))+1)]\n",
        "product = reduce(lambda x, y: x*y, sequences)\n",
        "print(product)"
      ],
      "execution_count": null,
      "outputs": [
        {
          "output_type": "stream",
          "text": [
            "Enter no3\n",
            "6\n"
          ],
          "name": "stdout"
        }
      ]
    },
    {
      "cell_type": "markdown",
      "metadata": {
        "id": "0vlqvfDV1fZN",
        "colab_type": "text"
      },
      "source": [
        "Number and its square as Tuple for a range"
      ]
    },
    {
      "cell_type": "code",
      "metadata": {
        "id": "ngwftRVG1i_D",
        "colab_type": "code",
        "colab": {
          "base_uri": "https://localhost:8080/",
          "height": 68
        },
        "outputId": "8519a1d5-e955-49f7-ca14-7ee5373ea74e"
      },
      "source": [
        "l_range=int(input(\"Enter the lower range:\"))\n",
        "u_range=int(input(\"Enter the upper range:\"))\n",
        "a=[(x,x**2) for x in range(l_range,u_range+1)]\n"
      ],
      "execution_count": null,
      "outputs": [
        {
          "output_type": "stream",
          "text": [
            "Enter the lower range:3\n",
            "Enter the upper range:5\n",
            "[(3, 9), (4, 16), (5, 25)]\n"
          ],
          "name": "stdout"
        }
      ]
    },
    {
      "cell_type": "markdown",
      "metadata": {
        "id": "rn8WG1QD2DVj",
        "colab_type": "text"
      },
      "source": [
        "The most Pythonic program of a sinle line program is given below"
      ]
    },
    {
      "cell_type": "code",
      "metadata": {
        "id": "ehELTt-72EMc",
        "colab_type": "code",
        "colab": {
          "base_uri": "https://localhost:8080/",
          "height": 68
        },
        "outputId": "c18f50a9-0f06-4e6b-ebaa-2e1b81817f6c"
      },
      "source": [
        "print([(x,x**2) for x in range(int(input(\"Enter the lower range:\")),\\\n",
        "                           int(input(\"Enter the upper range:\"))+1)])\n"
      ],
      "execution_count": null,
      "outputs": [
        {
          "output_type": "stream",
          "text": [
            "Enter the lower range:4\n",
            "Enter the upper range:5\n",
            "[(4, 16), (5, 25)]\n"
          ],
          "name": "stdout"
        }
      ]
    },
    {
      "cell_type": "markdown",
      "metadata": {
        "id": "3byB8Gqm2OAS",
        "colab_type": "text"
      },
      "source": [
        "Finding the perfect squares"
      ]
    },
    {
      "cell_type": "code",
      "metadata": {
        "id": "BGPRTyKZ2QBA",
        "colab_type": "code",
        "colab": {
          "base_uri": "https://localhost:8080/",
          "height": 34
        },
        "outputId": "49850d2d-61be-4abc-e136-5988d5e77420"
      },
      "source": [
        "from math import *\n",
        "sequences = [10,2,8,7,5,4,3,11,0,9,16,1]\n",
        "result=[]\n",
        "for i in sequences:\n",
        "  if int(sqrt(i))**2==i:\n",
        "    result.append(i)\n",
        "print(result)\n"
      ],
      "execution_count": null,
      "outputs": [
        {
          "output_type": "stream",
          "text": [
            "[4, 0, 9, 16, 1]\n"
          ],
          "name": "stdout"
        }
      ]
    },
    {
      "cell_type": "markdown",
      "metadata": {
        "id": "L5AmsfSl2XSA",
        "colab_type": "text"
      },
      "source": [
        "Pythonic program of 3 lines!\n",
        "\n"
      ]
    },
    {
      "cell_type": "code",
      "metadata": {
        "id": "9BPgc0EX2mbO",
        "colab_type": "code",
        "colab": {
          "base_uri": "https://localhost:8080/",
          "height": 34
        },
        "outputId": "c290da87-7e82-4f14-a82b-98ff3ce4972d"
      },
      "source": [
        "sequences = [10,2,8,7,5,4,3,11,0,9,16,1]\n",
        "filtered_result = filter(lambda x: int(sqrt(x))**2==x, sequences) \n",
        "print(list(filtered_result))\n"
      ],
      "execution_count": null,
      "outputs": [
        {
          "output_type": "stream",
          "text": [
            "[4, 0, 9, 16, 1]\n"
          ],
          "name": "stdout"
        }
      ]
    },
    {
      "cell_type": "markdown",
      "metadata": {
        "id": "9Nyn2aWt2t_u",
        "colab_type": "text"
      },
      "source": [
        "Program to nd the largest number in a list."
      ]
    },
    {
      "cell_type": "code",
      "metadata": {
        "id": "eY1G3rU92uzA",
        "colab_type": "code",
        "colab": {
          "base_uri": "https://localhost:8080/",
          "height": 86
        },
        "outputId": "f23dc21b-0506-47bb-a1c7-4e57819d1578"
      },
      "source": [
        "a=[]\n",
        "n=int(input(\"Enter number of elements:\"))\n",
        "for i in range(1,n+1):\n",
        "    b=int(input(\"Enter element:\"))\n",
        "    a.append(b)\n",
        "a.sort()\n",
        "print(\"Largest element is:\",a[n-1])\n"
      ],
      "execution_count": null,
      "outputs": [
        {
          "output_type": "stream",
          "text": [
            "Enter number of elements:2\n",
            "Enter element:1\n",
            "Enter element:3\n",
            "Largest element is: 3\n"
          ],
          "name": "stdout"
        }
      ]
    },
    {
      "cell_type": "markdown",
      "metadata": {
        "id": "jF3jtgPg2-8o",
        "colab_type": "text"
      },
      "source": [
        "Try this More pythonic 2 lines program equivalent to above codings as shown below !\n",
        "\n"
      ]
    },
    {
      "cell_type": "code",
      "metadata": {
        "id": "BVfsMGmH3CKN",
        "colab_type": "code",
        "colab": {
          "base_uri": "https://localhost:8080/",
          "height": 104
        },
        "outputId": "0e53182f-5300-4bf6-b731-0d80cc234aea"
      },
      "source": [
        "x=0\n",
        "print('The greatest no is',max([int(input(x)) for _ in range(int(input(\"Enter no\")))]))\n"
      ],
      "execution_count": null,
      "outputs": [
        {
          "output_type": "stream",
          "text": [
            "Enter no3\n",
            "2\n",
            "4\n",
            "5\n",
            "The greatest no is 5\n"
          ],
          "name": "stdout"
        }
      ]
    },
    {
      "cell_type": "markdown",
      "metadata": {
        "id": "JJHSlc5v3TwB",
        "colab_type": "text"
      },
      "source": [
        "Program to put the even and odd elements in a list into two different lists."
      ]
    },
    {
      "cell_type": "code",
      "metadata": {
        "id": "i1gsbmac3Z3i",
        "colab_type": "code",
        "colab": {
          "base_uri": "https://localhost:8080/",
          "height": 104
        },
        "outputId": "1eb5bfe6-cc01-4d0a-caeb-6fc036be9c13"
      },
      "source": [
        "a=[]\n",
        "n=int(input(\"Enter number of elements:\"))\n",
        "for i in range(1,n+1):\n",
        "    b=int(input(\"Enter element:\"))\n",
        "    a.append(b)\n",
        "even=[]\n",
        "odd=[]\n",
        "for j in a:\n",
        "    if(j%2==0):\n",
        "        even.append(j)\n",
        "    else:\n",
        "        odd.append(j)\n",
        "print(\"The even list\",even)\n",
        "print(\"The odd list\",odd)\n"
      ],
      "execution_count": null,
      "outputs": [
        {
          "output_type": "stream",
          "text": [
            "Enter number of elements:2\n",
            "Enter element:1\n",
            "Enter element:3\n",
            "The even list []\n",
            "The odd list [1, 3]\n"
          ],
          "name": "stdout"
        }
      ]
    },
    {
      "cell_type": "markdown",
      "metadata": {
        "id": "DTfP81wn3g-e",
        "colab_type": "text"
      },
      "source": [
        "Instead of forementioned 14 lines program, the equivalent 4 lines !"
      ]
    },
    {
      "cell_type": "code",
      "metadata": {
        "id": "L8S1uzx03hv0",
        "colab_type": "code",
        "colab": {
          "base_uri": "https://localhost:8080/",
          "height": 104
        },
        "outputId": "a2a4bc00-1c10-4007-abe1-888cf94834fe"
      },
      "source": [
        "x=0\n",
        "l=[int(input(x)) for _ in range(int(input(\"Enter n\")))]\n",
        "print('odd list is',[ i for i in l if i%2])\n",
        "print('even list is',[i for i in l if not i%2])\n"
      ],
      "execution_count": null,
      "outputs": [
        {
          "output_type": "stream",
          "text": [
            "Enter n2\n",
            "1\n",
            "2\n",
            "odd list is [1]\n",
            "even list is [2]\n"
          ],
          "name": "stdout"
        }
      ]
    },
    {
      "cell_type": "markdown",
      "metadata": {
        "id": "qfeXLWPa8tSX",
        "colab_type": "text"
      },
      "source": [
        "Python Program to merge two lists and sort it"
      ]
    },
    {
      "cell_type": "code",
      "metadata": {
        "id": "UOKwtWA-8wrV",
        "colab_type": "code",
        "colab": {
          "base_uri": "https://localhost:8080/",
          "height": 138
        },
        "outputId": "27c40bec-a074-413b-d074-b569763f17b2"
      },
      "source": [
        "a=[]\n",
        "c=[]\n",
        "n1=int(input(\"Enter number of elements:\"))\n",
        "for i in range(1,n1+1):\n",
        "    b=int(input(\"Enter element:\"))\n",
        "    a.append(b)\n",
        "n2=int(input(\"Enter number of elements:\"))\n",
        "for i in range(1,n2+1):\n",
        "    d=int(input(\"Enter element:\"))\n",
        "    c.append(d)\n",
        "new=a+c\n",
        "new.sort()\n",
        "print(\"Sorted list is:\",new)\n"
      ],
      "execution_count": null,
      "outputs": [
        {
          "output_type": "stream",
          "text": [
            "Enter number of elements:2\n",
            "Enter element:1\n",
            "Enter element:2\n",
            "Enter number of elements:2\n",
            "Enter element:1\n",
            "Enter element:2\n",
            "Sorted list is: [1, 1, 2, 2]\n"
          ],
          "name": "stdout"
        }
      ]
    },
    {
      "cell_type": "markdown",
      "metadata": {
        "id": "r1aPNpVc9B_u",
        "colab_type": "text"
      },
      "source": [
        "Instead of forementioned 13 lines program, the equivalent 5 lines !"
      ]
    },
    {
      "cell_type": "code",
      "metadata": {
        "id": "Q6PKooYR9FmE",
        "colab_type": "code",
        "colab": {
          "base_uri": "https://localhost:8080/",
          "height": 156
        },
        "outputId": "cf66f481-112c-4a64-eedf-114dcd140ce8"
      },
      "source": [
        "x=0\n",
        "l=[int(input(x)) for _ in range(int(input(\"Enter how many elements\")))]\n",
        "m=[int(input(x)) for _ in range(int(input(\"Enter how many elements \")))]\n",
        "new=l+m\n",
        "new.sort()\n",
        "print(\"Sorted list is:\",new)"
      ],
      "execution_count": null,
      "outputs": [
        {
          "output_type": "stream",
          "text": [
            "Enter how many elements2\n",
            "1\n",
            "2\n",
            "Enter how many elements 3\n",
            "1\n",
            "2\n",
            "3\n",
            "Sorted list is: [1, 1, 2, 2, 3]\n"
          ],
          "name": "stdout"
        }
      ]
    },
    {
      "cell_type": "markdown",
      "metadata": {
        "id": "AlnlS0_N9SoQ",
        "colab_type": "text"
      },
      "source": [
        "Python Program to sort the list according to the second element in the sublist."
      ]
    },
    {
      "cell_type": "code",
      "metadata": {
        "id": "kwUiBHP29XGC",
        "colab_type": "code",
        "colab": {
          "base_uri": "https://localhost:8080/",
          "height": 34
        },
        "outputId": "347374e9-8b77-400e-b3c1-ba95d15c8b2f"
      },
      "source": [
        "#Python Program to sort the list according to the second element in the sublist\n",
        "a=[['A',34],['B',21],['C',26],['E',29]]\n",
        "for i in range(0,len(a)):\n",
        "    for j in range(i+1,len(a)):\n",
        "        if(a[i][1]>a[j][1]):\n",
        "            temp=a[j]\n",
        "            a[j]=a[i]\n",
        "            a[i]=temp\n",
        "print(a)\n"
      ],
      "execution_count": null,
      "outputs": [
        {
          "output_type": "stream",
          "text": [
            "[['B', 21], ['C', 26], ['E', 29], ['A', 34]]\n"
          ],
          "name": "stdout"
        }
      ]
    },
    {
      "cell_type": "markdown",
      "metadata": {
        "id": "KUltbLSM9cTV",
        "colab_type": "text"
      },
      "source": [
        "Python Program to sort the list according to the second element in the sublist."
      ]
    },
    {
      "cell_type": "code",
      "metadata": {
        "id": "_mxU4zSy9tON",
        "colab_type": "code",
        "colab": {
          "base_uri": "https://localhost:8080/",
          "height": 34
        },
        "outputId": "0931a5ab-7f32-4868-b890-6cc07e1345ef"
      },
      "source": [
        "#Python Program to sort the list according to the second element in the sublist\n",
        "a=[['A',34],['B',21],['C',26],['E',29]]\n",
        "for i in range(0,len(a)):\n",
        "    for j in range(i+1,len(a)):\n",
        "        if(a[i][1]>a[j][1]):\n",
        "            temp=a[j]\n",
        "            a[j]=a[i]\n",
        "            a[i]=temp\n",
        "print(a)\n"
      ],
      "execution_count": null,
      "outputs": [
        {
          "output_type": "stream",
          "text": [
            "[['B', 21], ['C', 26], ['E', 29], ['A', 34]]\n"
          ],
          "name": "stdout"
        }
      ]
    },
    {
      "cell_type": "markdown",
      "metadata": {
        "id": "Ury3UoQ_9yVd",
        "colab_type": "text"
      },
      "source": [
        "Instead of forementioned 12 lines program, the equivalent 4 lines progam !"
      ]
    },
    {
      "cell_type": "code",
      "metadata": {
        "id": "GBM8LzC49y2M",
        "colab_type": "code",
        "colab": {
          "base_uri": "https://localhost:8080/",
          "height": 86
        },
        "outputId": "87fca428-4b35-41a8-d950-e6e89390881f"
      },
      "source": [
        "x=0\n",
        "l=[int(input(x)) for _ in range(int(input(\"Enter how many elements\")))]\n",
        "l.sort()\n",
        "print(\"Second largest element is :\",l[-2])\n"
      ],
      "execution_count": null,
      "outputs": [
        {
          "output_type": "stream",
          "text": [
            "Enter how many elements2\n",
            "1\n",
            "2\n",
            "Second largest element is : 1\n"
          ],
          "name": "stdout"
        }
      ]
    },
    {
      "cell_type": "markdown",
      "metadata": {
        "id": "qkXCb-EgHD3x",
        "colab_type": "text"
      },
      "source": [
        "Program to create a list of tuples with the rst element as the number and the second element as the square of the number.\n",
        "\n"
      ]
    },
    {
      "cell_type": "code",
      "metadata": {
        "id": "XaQ5a4afHKpb",
        "colab_type": "code",
        "colab": {
          "base_uri": "https://localhost:8080/",
          "height": 69
        },
        "outputId": "ddbe6d15-13d8-4577-dc99-e7122f6d7ff0"
      },
      "source": [
        "l_range=int(input(\"Enter the lower range:\"))\n",
        "u_range=int(input(\"Enter the upper range:\"))\n",
        "a=[(x,x**2) for x in range(l_range,u_range+1)]\n",
        "print(a)\n"
      ],
      "execution_count": null,
      "outputs": [
        {
          "output_type": "stream",
          "text": [
            "Enter the lower range:2\n",
            "Enter the upper range:1\n",
            "[]\n"
          ],
          "name": "stdout"
        }
      ]
    },
    {
      "cell_type": "markdown",
      "metadata": {
        "id": "DtPTMsk_HS8p",
        "colab_type": "text"
      },
      "source": [
        "We can still make it more pythonic as follows\n",
        "\n"
      ]
    },
    {
      "cell_type": "code",
      "metadata": {
        "id": "fHZVVirLHTzC",
        "colab_type": "code",
        "colab": {}
      },
      "source": [
        "a=[(x,x**2) for x in range(int(input(\"Enter the lower range:\")),\\\n",
        "                           int(input(\"Enter the upper range:\"))+1)]\n",
        "print(a)\n"
      ],
      "execution_count": null,
      "outputs": []
    },
    {
      "cell_type": "markdown",
      "metadata": {
        "id": "uw565J7Ng2gk",
        "colab_type": "text"
      },
      "source": [
        "We can still make it more pythonic as follows"
      ]
    },
    {
      "cell_type": "code",
      "metadata": {
        "id": "SBG9rnpPg3TT",
        "colab_type": "code",
        "colab": {
          "base_uri": "https://localhost:8080/",
          "height": 70
        },
        "outputId": "d9fff13b-b07e-4b08-ec41-b71d5f443f0e"
      },
      "source": [
        "a=[(x,x**2) for x in range(int(input(\"Enter the lower range:\")),\\\n",
        "                           int(input(\"Enter the upper range:\"))+1)]\n",
        "print(a)\n"
      ],
      "execution_count": 1,
      "outputs": [
        {
          "output_type": "stream",
          "text": [
            "Enter the lower range:2\n",
            "Enter the upper range:1\n",
            "[]\n"
          ],
          "name": "stdout"
        }
      ]
    },
    {
      "cell_type": "markdown",
      "metadata": {
        "id": "d6HDINeDhGC9",
        "colab_type": "text"
      },
      "source": [
        "Of course, We can write in the most pythonic way with one line ! as follows"
      ]
    },
    {
      "cell_type": "code",
      "metadata": {
        "id": "8JeL78fchGse",
        "colab_type": "code",
        "colab": {
          "base_uri": "https://localhost:8080/",
          "height": 70
        },
        "outputId": "d32b0b20-163c-4e5f-83c3-59d9604e2ab0"
      },
      "source": [
        "print([(x,x**2) for x in range(int(input(\"Enter the lower range:\")),\\\n",
        "                           int(input(\"Enter the upper range:\"))+1)])\n"
      ],
      "execution_count": 2,
      "outputs": [
        {
          "output_type": "stream",
          "text": [
            "Enter the lower range:2\n",
            "Enter the upper range:4\n",
            "[(2, 4), (3, 9), (4, 16)]\n"
          ],
          "name": "stdout"
        }
      ]
    },
    {
      "cell_type": "markdown",
      "metadata": {
        "id": "OSzdyqWchStt",
        "colab_type": "text"
      },
      "source": [
        "Program to generate random numbers from 1 to 20 and append them to the list"
      ]
    },
    {
      "cell_type": "code",
      "metadata": {
        "id": "6BkF2-OnhWjZ",
        "colab_type": "code",
        "colab": {
          "base_uri": "https://localhost:8080/",
          "height": 52
        },
        "outputId": "b8ce85fe-11cf-44c1-9bd4-5c1ac8dced12"
      },
      "source": [
        "import random\n",
        "a=[]\n",
        "n=int(input(\"Enter number of elements:\"))\n",
        "for j in range(n):\n",
        "    a.append(random.randint(1,20))\n",
        "print('Randomised list is: ',a)\n"
      ],
      "execution_count": 3,
      "outputs": [
        {
          "output_type": "stream",
          "text": [
            "Enter number of elements:2\n",
            "Randomised list is:  [18, 7]\n"
          ],
          "name": "stdout"
        }
      ]
    },
    {
      "cell_type": "markdown",
      "metadata": {
        "id": "909xAy-EhXrW",
        "colab_type": "text"
      },
      "source": [
        ""
      ]
    },
    {
      "cell_type": "markdown",
      "metadata": {
        "id": "hD9EhR-thdaU",
        "colab_type": "text"
      },
      "source": [
        "Pythonic program of 2 lines!"
      ]
    },
    {
      "cell_type": "code",
      "metadata": {
        "id": "iweGHbA-hhgU",
        "colab_type": "code",
        "colab": {
          "base_uri": "https://localhost:8080/",
          "height": 52
        },
        "outputId": "7fddac3e-2ee6-40b5-d178-b02bd5be88d9"
      },
      "source": [
        "import random\n",
        "l=[random.randint(1,20) for _ in range(int(input(\"Enter how many elements\")))]\n",
        "print('Randomised list is: ',l)\n"
      ],
      "execution_count": 4,
      "outputs": [
        {
          "output_type": "stream",
          "text": [
            "Enter how many elements1\n",
            "Randomised list is:  [6]\n"
          ],
          "name": "stdout"
        }
      ]
    },
    {
      "cell_type": "markdown",
      "metadata": {
        "id": "RaJdhy1qhmwx",
        "colab_type": "text"
      },
      "source": [
        "Program for printing list of values with indexing"
      ]
    },
    {
      "cell_type": "code",
      "metadata": {
        "id": "CckPUAmMhpyY",
        "colab_type": "code",
        "colab": {
          "base_uri": "https://localhost:8080/",
          "height": 232
        },
        "outputId": "e9ee44b6-1a43-4cd6-d139-a04f00478adb"
      },
      "source": [
        "names = ['Jan','Feb','Mar','Apr','May','Jun','Jul','Aug','Sep','Oct','Nov','Dec']\n",
        "index=0\n",
        "for i in names:\n",
        "    print(str(index)+\":\"+i)\n",
        "    index=index+1\n"
      ],
      "execution_count": 5,
      "outputs": [
        {
          "output_type": "stream",
          "text": [
            "0:Jan\n",
            "1:Feb\n",
            "2:Mar\n",
            "3:Apr\n",
            "4:May\n",
            "5:Jun\n",
            "6:Jul\n",
            "7:Aug\n",
            "8:Sep\n",
            "9:Oct\n",
            "10:Nov\n",
            "11:Dec\n"
          ],
          "name": "stdout"
        }
      ]
    },
    {
      "cell_type": "markdown",
      "metadata": {
        "id": "0PuOtCC1hunN",
        "colab_type": "text"
      },
      "source": [
        "using Pythonic way using enumerate()!"
      ]
    },
    {
      "cell_type": "code",
      "metadata": {
        "id": "s2uNiOLnhxl3",
        "colab_type": "code",
        "colab": {
          "base_uri": "https://localhost:8080/",
          "height": 232
        },
        "outputId": "f247a0e3-f818-46c0-cb0a-6af88d62829b"
      },
      "source": [
        "names = ['Jan','Feb','Mar','Apr','May','Jun','Jul','Aug','Sep','Oct','Nov','Dec']\n",
        "for index, value in enumerate(names):\n",
        "    print(f'{index+1}: {value}')\n"
      ],
      "execution_count": 6,
      "outputs": [
        {
          "output_type": "stream",
          "text": [
            "1: Jan\n",
            "2: Feb\n",
            "3: Mar\n",
            "4: Apr\n",
            "5: May\n",
            "6: Jun\n",
            "7: Jul\n",
            "8: Aug\n",
            "9: Sep\n",
            "10: Oct\n",
            "11: Nov\n",
            "12: Dec\n"
          ],
          "name": "stdout"
        }
      ]
    },
    {
      "cell_type": "markdown",
      "metadata": {
        "id": "Gf8J9QhEh35H",
        "colab_type": "text"
      },
      "source": [
        "Program for printing list of values with indexing"
      ]
    },
    {
      "cell_type": "code",
      "metadata": {
        "id": "aJ3K_gqTh40X",
        "colab_type": "code",
        "colab": {
          "base_uri": "https://localhost:8080/",
          "height": 232
        },
        "outputId": "131a0cc6-a60f-4013-ccf3-d8584aa602d7"
      },
      "source": [
        "names = ['Jan','Feb','Mar','Apr','May','Jun','Jul','Aug','Sep','Oct','Nov','Dec']\n",
        "index=0\n",
        "for i in names:\n",
        "    print(str(index)+\":\"+i)\n",
        "    index=index+1\n"
      ],
      "execution_count": 7,
      "outputs": [
        {
          "output_type": "stream",
          "text": [
            "0:Jan\n",
            "1:Feb\n",
            "2:Mar\n",
            "3:Apr\n",
            "4:May\n",
            "5:Jun\n",
            "6:Jul\n",
            "7:Aug\n",
            "8:Sep\n",
            "9:Oct\n",
            "10:Nov\n",
            "11:Dec\n"
          ],
          "name": "stdout"
        }
      ]
    },
    {
      "cell_type": "markdown",
      "metadata": {
        "id": "ghAthjnviA0R",
        "colab_type": "text"
      },
      "source": [
        "using Pythonic way using enumerate()!"
      ]
    },
    {
      "cell_type": "code",
      "metadata": {
        "id": "8CSQCvVyiBdC",
        "colab_type": "code",
        "colab": {
          "base_uri": "https://localhost:8080/",
          "height": 232
        },
        "outputId": "a2bf8e18-d26f-41ca-b049-b0ba8c4792aa"
      },
      "source": [
        "names = ['Jan','Feb','Mar','Apr','May','Jun','Jul','Aug','Sep','Oct','Nov','Dec']\n",
        "for index, value in enumerate(names):\n",
        "    print(f'{index+1}: {value}')\n"
      ],
      "execution_count": 8,
      "outputs": [
        {
          "output_type": "stream",
          "text": [
            "1: Jan\n",
            "2: Feb\n",
            "3: Mar\n",
            "4: Apr\n",
            "5: May\n",
            "6: Jun\n",
            "7: Jul\n",
            "8: Aug\n",
            "9: Sep\n",
            "10: Oct\n",
            "11: Nov\n",
            "12: Dec\n"
          ],
          "name": "stdout"
        }
      ]
    },
    {
      "cell_type": "markdown",
      "metadata": {
        "id": "pjAinKYmiGQu",
        "colab_type": "text"
      },
      "source": [
        ""
      ]
    },
    {
      "cell_type": "markdown",
      "metadata": {
        "id": "83tbwBN1HoRD",
        "colab_type": "text"
      },
      "source": [
        ""
      ]
    }
  ]
}