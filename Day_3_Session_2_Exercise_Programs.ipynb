{
  "nbformat": 4,
  "nbformat_minor": 0,
  "metadata": {
    "colab": {
      "name": "Day 3 Session 2 Exercise Programs ",
      "provenance": [],
      "authorship_tag": "ABX9TyO/CuofnmtDpviHv/qR52uP",
      "include_colab_link": true
    },
    "kernelspec": {
      "name": "python3",
      "display_name": "Python 3"
    }
  },
  "cells": [
    {
      "cell_type": "markdown",
      "metadata": {
        "id": "view-in-github",
        "colab_type": "text"
      },
      "source": [
        "<a href=\"https://colab.research.google.com/github/ShreeKiranRBhatt/Python-Workshop/blob/master/Day_3_Session_2_Exercise_Programs.ipynb\" target=\"_parent\"><img src=\"https://colab.research.google.com/assets/colab-badge.svg\" alt=\"Open In Colab\"/></a>"
      ]
    },
    {
      "cell_type": "markdown",
      "metadata": {
        "id": "MzVbOXCLM87D",
        "colab_type": "text"
      },
      "source": [
        "Write a Python Program to Print Multiplication Table of a number which got through keyboard"
      ]
    },
    {
      "cell_type": "code",
      "metadata": {
        "id": "ylWDtzB4NozI",
        "colab_type": "code",
        "colab": {
          "base_uri": "https://localhost:8080/",
          "height": 50
        },
        "outputId": "c0fa4124-1e8c-4db0-b343-7501be6bfc8f"
      },
      "source": [
        "a=[]\n",
        "n=int(input(\"enter the value of n\"))\n",
        "for i in range(1,11):\n",
        "  b=i*n\n",
        "  a.append(str(b))\n",
        "print(','.join(a))\n"
      ],
      "execution_count": 1,
      "outputs": [
        {
          "output_type": "stream",
          "text": [
            "enter the value of n68\n",
            "68,136,204,272,340,408,476,544,612,680\n"
          ],
          "name": "stdout"
        }
      ]
    },
    {
      "cell_type": "markdown",
      "metadata": {
        "id": "8BLSIg9FN2VB",
        "colab_type": "text"
      },
      "source": [
        "Write a Python Program to find the Armstrong Numbers between 1 and 2000"
      ]
    },
    {
      "cell_type": "code",
      "metadata": {
        "id": "sN6I4ueYN3Tx",
        "colab_type": "code",
        "colab": {
          "base_uri": "https://localhost:8080/",
          "height": 33
        },
        "outputId": "99644865-5b70-4a9c-ea40-7cd21baceda0"
      },
      "source": [
        "a=[]\n",
        "for i in range(1,2001):\n",
        " temp=i\n",
        " d=0\n",
        " l=0\n",
        " s=0\n",
        " while(temp>0):\n",
        "  temp=temp//10\n",
        "  d=d+1\n",
        " temp=i\n",
        " while(temp>0):\n",
        "  l=temp%10\n",
        "  s=s+l**d\n",
        "  temp=temp//10\n",
        " if(s==i):\n",
        "  a.append(str(i))\n",
        "print(a)\n"
      ],
      "execution_count": 2,
      "outputs": [
        {
          "output_type": "stream",
          "text": [
            "['1', '2', '3', '4', '5', '6', '7', '8', '9', '153', '370', '371', '407', '1634']\n"
          ],
          "name": "stdout"
        }
      ]
    },
    {
      "cell_type": "markdown",
      "metadata": {
        "id": "yrnmFp8oN95t",
        "colab_type": "text"
      },
      "source": [
        "Write a python program to get the list of tuples (rollno, name) for n students by getting rollno and name through keyboard. Sort and print them as rollno wise and name wise both ascending and descending as well as alphabetical and dealphabetical orders"
      ]
    },
    {
      "cell_type": "code",
      "metadata": {
        "id": "TVokl_YgN-e1",
        "colab_type": "code",
        "colab": {
          "base_uri": "https://localhost:8080/",
          "height": 180
        },
        "outputId": "a36fe389-2639-48b8-84d2-73885be1d279"
      },
      "source": [
        "a=[]\n",
        "def inp():\n",
        "  rolno=input(\"enter the rolno\")\n",
        "  name=input(\"enter the name\")\n",
        "  return(rolno,name)\n",
        "n=int(input(\"Enter the value of n\"))\n",
        "for i in range(1,n+1):\n",
        "  a.append(inp())\n",
        "print(a)\n",
        "a.sort(key=lambda i:i[0])\n",
        "print(f'According to Rollno:Ascending order:{a}')\n",
        "print(f'According to Rollno:Descending order:{a[::-1]}')\n",
        "a.sort(key=lambda i:i[1])\n",
        "print(f'According to Name:Alphabeticallyorder:{a}')\n",
        "print(f'According to Name:Dealphabetically order:{a[::-1]}')\n"
      ],
      "execution_count": 4,
      "outputs": [
        {
          "output_type": "stream",
          "text": [
            "Enter the value of n2\n",
            "enter the rolno1\n",
            "enter the namertyu\n",
            "enter the rolno2\n",
            "enter the namegfds\n",
            "[('1', 'rtyu'), ('2', 'gfds')]\n",
            "According to Rollno:Ascending order:[('1', 'rtyu'), ('2', 'gfds')]\n",
            "According to Rollno:Descending order:[('2', 'gfds'), ('1', 'rtyu')]\n",
            "According to Name:Alphabeticallyorder:[('2', 'gfds'), ('1', 'rtyu')]\n",
            "According to Name:Dealphabetically order:[('1', 'rtyu'), ('2', 'gfds')]\n"
          ],
          "name": "stdout"
        }
      ]
    },
    {
      "cell_type": "markdown",
      "metadata": {
        "id": "juYCh7PcOLIJ",
        "colab_type": "text"
      },
      "source": [
        "Python Program to Detect if Two Strings are Anagrams ( They are the two strings which have same length and same words which may be different in their order)\n",
        "\n"
      ]
    },
    {
      "cell_type": "code",
      "metadata": {
        "id": "Z87yQ4jGOPsa",
        "colab_type": "code",
        "colab": {
          "base_uri": "https://localhost:8080/",
          "height": 66
        },
        "outputId": "605786e1-7c19-4ae7-f9c8-a6efbd0233b3"
      },
      "source": [
        "s=input(\"Enter the first string\")\n",
        "s2=input(\"Enter the second string\")\n",
        "if(sorted(s)==sorted(s2)):\n",
        "  print(\"Strings are anagram\")\n",
        "else:\n",
        "  print(\"strings arent anagram\")\n"
      ],
      "execution_count": 6,
      "outputs": [
        {
          "output_type": "stream",
          "text": [
            "Enter the first stringwednesday\n",
            "Enter the second stringwednesday\n",
            "Strings are anagram\n"
          ],
          "name": "stdout"
        }
      ]
    },
    {
      "cell_type": "code",
      "metadata": {
        "id": "KLi9JnbyM_o1",
        "colab_type": "code",
        "colab": {}
      },
      "source": [
        ""
      ],
      "execution_count": null,
      "outputs": []
    }
  ]
}