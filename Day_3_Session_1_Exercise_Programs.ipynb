{
  "nbformat": 4,
  "nbformat_minor": 0,
  "metadata": {
    "colab": {
      "name": "Day 3 Session 1 Exercise Programs ",
      "provenance": [],
      "authorship_tag": "ABX9TyOi42UrrGNDQL9cmPyIFp1p",
      "include_colab_link": true
    },
    "kernelspec": {
      "name": "python3",
      "display_name": "Python 3"
    }
  },
  "cells": [
    {
      "cell_type": "markdown",
      "metadata": {
        "id": "view-in-github",
        "colab_type": "text"
      },
      "source": [
        "<a href=\"https://colab.research.google.com/github/ShreeKiranRBhatt/Python-Workshop/blob/master/Day_3_Session_1_Exercise_Programs.ipynb\" target=\"_parent\"><img src=\"https://colab.research.google.com/assets/colab-badge.svg\" alt=\"Open In Colab\"/></a>"
      ]
    },
    {
      "cell_type": "markdown",
      "metadata": {
        "id": "Yk0EfM02L4jL",
        "colab_type": "text"
      },
      "source": [
        "Write a Python program to find numbers between 100 and 400 (both included) which are divisable both by 5 or 7. The numbers obtained should be printed in a comma-separated sequence"
      ]
    },
    {
      "cell_type": "code",
      "metadata": {
        "id": "8YOjg3quL7zI",
        "colab_type": "code",
        "colab": {
          "base_uri": "https://localhost:8080/",
          "height": 33
        },
        "outputId": "c868bef2-fd98-441a-daad-cc7d407332e9"
      },
      "source": [
        "a=[]\n",
        "for i in range(100,400):\n",
        "  if(i%5==0 and i%7==0):\n",
        "    a.append(str(i))\n",
        "print(','.join(a))\n"
      ],
      "execution_count": 1,
      "outputs": [
        {
          "output_type": "stream",
          "text": [
            "105,140,175,210,245,280,315,350,385\n"
          ],
          "name": "stdout"
        }
      ]
    },
    {
      "cell_type": "markdown",
      "metadata": {
        "id": "WYj9aa9SMEde",
        "colab_type": "text"
      },
      "source": [
        "Write a Python program to find prime numbers between 200 and 600 (both included). The numbers obtained should be printed in a comma-separated sequence"
      ]
    },
    {
      "cell_type": "code",
      "metadata": {
        "id": "vwNBX9fVMFep",
        "colab_type": "code",
        "colab": {
          "base_uri": "https://localhost:8080/",
          "height": 53
        },
        "outputId": "37726477-4979-4e9f-b55a-04b0e41d149c"
      },
      "source": [
        "a=[]\n",
        "for num1 in range(200, 600):\n",
        "      if num1 > 1:\n",
        "       for i in range(2, num1):\n",
        "           if (num1 % i) == 0:\n",
        "               break\n",
        "       else:\n",
        "              k=num1\n",
        "              a.append(str(num1))\n",
        "print(','.join(a))\n"
      ],
      "execution_count": 2,
      "outputs": [
        {
          "output_type": "stream",
          "text": [
            "211,223,227,229,233,239,241,251,257,263,269,271,277,281,283,293,307,311,313,317,331,337,347,349,353,359,367,373,379,383,389,397,401,409,419,421,431,433,439,443,449,457,461,463,467,479,487,491,499,503,509,521,523,541,547,557,563,569,571,577,587,593,599\n"
          ],
          "name": "stdout"
        }
      ]
    },
    {
      "cell_type": "markdown",
      "metadata": {
        "id": "oAJ-49K0MLKC",
        "colab_type": "text"
      },
      "source": [
        "Write a Python program to find All Numbers which are Odd and Palindromes Between a Range of Numbers without using Recursion. The numbers obtained should be printed in a comma-separated sequence"
      ]
    },
    {
      "cell_type": "code",
      "metadata": {
        "id": "5G6fsLuRMNbA",
        "colab_type": "code",
        "colab": {
          "base_uri": "https://localhost:8080/",
          "height": 66
        },
        "outputId": "f4219a84-efa4-4ec9-8d31-6f48d74f517f"
      },
      "source": [
        "a=[]\n",
        "n1=int(input('Enter the upper range'))\n",
        "n2=int(input(\"enter the lower range\"))\n",
        "for i in range(n1,n2):\n",
        "    if(i%2!=0):\n",
        "      temp=i\n",
        "      rev=0\n",
        "      while(temp>0):\n",
        "          rem=temp%10\n",
        "          rev=(rev*10)+rem\n",
        "          temp=temp//10\n",
        "      if(i==rev):\n",
        "        a.append(str(i))\n",
        "print(','.join(a))\n"
      ],
      "execution_count": 3,
      "outputs": [
        {
          "output_type": "stream",
          "text": [
            "Enter the upper range2\n",
            "enter the lower range1\n",
            "\n"
          ],
          "name": "stdout"
        }
      ]
    },
    {
      "cell_type": "markdown",
      "metadata": {
        "id": "PD946Z3zMXvh",
        "colab_type": "text"
      },
      "source": [
        "Write a Python Program to read a number n and print the series “5+10+…..+n = sum upto n ” . The numbers should be printed as they are shown in the quotes with sum of numbers upto n"
      ]
    },
    {
      "cell_type": "code",
      "metadata": {
        "id": "M19vaWz8MaES",
        "colab_type": "code",
        "colab": {
          "base_uri": "https://localhost:8080/",
          "height": 50
        },
        "outputId": "b7997dda-1a19-4ed0-f920-c6332b061b85"
      },
      "source": [
        "a=[]\n",
        "b=0\n",
        "n=int(input(\"Enter the value of n\"))\n",
        "while(b<n):\n",
        "  b=5+b\n",
        "  a.append(str(b))\n",
        "print('+'.join(a))\n"
      ],
      "execution_count": 4,
      "outputs": [
        {
          "output_type": "stream",
          "text": [
            "Enter the value of n50\n",
            "5+10+15+20+25+30+35+40+45+50\n"
          ],
          "name": "stdout"
        }
      ]
    }
  ]
}